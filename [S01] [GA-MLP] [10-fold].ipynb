{
 "cells": [
  {
   "cell_type": "code",
   "execution_count": 1,
   "metadata": {
    "id": "rAn22bJE-8HR"
   },
   "outputs": [],
   "source": [
    "import pickle, mne, os, random, warnings, copy, sys, shutil# done in mac m1\n",
    "import numpy as np # done in mac m1\n",
    "import pandas as pd\n",
    "import seaborn as sns\n",
    "from tqdm import tqdm\n",
    "from sklearn import svm\n",
    "from scipy import signal\n",
    "from itertools import chain\n",
    "import matplotlib.pyplot as plt\n",
    "from scipy.integrate import simps  # not done\n",
    "from sklearn.neural_network import MLPClassifier\n",
    "from sklearn.model_selection import train_test_split\n",
    "from sklearn import svm, datasets\n",
    "from sklearn.neighbors import KNeighborsClassifier\n",
    "from sklearn.ensemble import RandomForestClassifier\n",
    "from sklearn.metrics import plot_confusion_matrix, classification_report, confusion_matrix,\\\n",
    "accuracy_score, f1_score, confusion_matrix, precision_score, recall_score\n",
    "from scipy.integrate import simps\n",
    "import sklearn.model_selection as model_selection\n",
    "from sklearn.decomposition import FastICA\n",
    "from mne.filter import filter_data as bandpass_filter\n",
    "from scipy.signal import welch, butter, lfilter, sosfilt, sosfreqz, freqz\n",
    "from scipy.integrate import simps\n",
    "from scipy.stats import f_oneway\n",
    "from mne.preprocessing import ICA\n",
    "from sklearn.preprocessing import MinMaxScaler\n",
    "from sklearn.model_selection import KFold\n",
    "from skfeature.utility.construct_W import construct_W\n",
    "from scipy.sparse import diags\n",
    "from sklearn.model_selection import StratifiedKFold\n",
    "warnings.filterwarnings('ignore')\n",
    "mne.set_log_level('WARNING')"
   ]
  },
  {
   "cell_type": "markdown",
   "metadata": {},
   "source": [
    "# GA-MLP"
   ]
  },
  {
   "cell_type": "code",
   "execution_count": 2,
   "metadata": {
    "id": "aE2mceIk-8HX"
   },
   "outputs": [],
   "source": [
    "def crossover(parent_1, parent_2, prob_cross):\n",
    "    # perform crossover\n",
    "    # parents: [a1, b1] & [a2, b2]\n",
    "    # offspring: [a1, b2] & [a2, b1]\n",
    "    if(prob_cross>=random.uniform(0, 1)):\n",
    "        return [parent_1[0], parent_2[1], parent_1[2], parent_2[3]]\n",
    "    else:\n",
    "        return [parent_1[0], parent_1[1], parent_2[2], parent_2[3]]\n",
    "\n",
    "def mutation(offsprings, prob_mut):\n",
    "    # perform mutation\n",
    "    for ind in range(0, len(offsprings)):\n",
    "        if np.random.rand() <= prob_mut:\n",
    "            act_or_solver = random.randint(2, 3)\n",
    "            random_noise = random.randint(1, 4)\n",
    "            offsprings[ind][act_or_solver] = int(offsprings[ind][act_or_solver]) + random_noise\n",
    "    return offsprings\n",
    "\n",
    "def compute_fitness(population, data):\n",
    "    fitness = []\n",
    "    for config in population:\n",
    "        clf = MLPClassifier(learning_rate_init=0.09, activation=config[0], solver = config[1], alpha=1e-5,\\\n",
    "                            hidden_layer_sizes=(int(config[2]), int(config[3])),\\\n",
    "                            max_iter=1000, n_iter_no_change=80)\n",
    "        clf.fit(data['trainX'], data['trainY'])\n",
    "        fitness.append([accuracy_score(clf.predict(data['testX']), data['testY']), clf, list(config)])\n",
    "    return np.array(fitness, dtype=object)\n",
    "\n",
    "def initialize_population(pop_size):\n",
    "    # Initialize the population\n",
    "    activations = ['identity','logistic', 'tanh', 'relu']\n",
    "    optimizers = ['lbfgs', 'sgd', 'adam']\n",
    "    population = []\n",
    "    for i in range(0, pop_size):\n",
    "        rand_act = random.choice(activations)\n",
    "        rand_opt = random.choice(optimizers)\n",
    "        neurons_1st = random.randint(2, 100) # no of neurons in 1st layers\n",
    "        neurons_2nd = random.randint(2, 50) # no of neurons in 2nd layers\n",
    "        population.append(np.array([rand_act, rand_opt, neurons_1st, neurons_2nd]))\n",
    "    return np.array(population)\n",
    "\n",
    "def GA_MLP(data, generations, pop_size, prob_cross, prob_mut):\n",
    "    population = initialize_population(pop_size) # Initialize new population\n",
    "    pop_fitness = compute_fitness(population, data) # find the fitness of the population\n",
    "    # sort the indivisuals based on their fitness function\n",
    "    pop_sorted = np.array(list(reversed(sorted(pop_fitness, key=lambda ind: ind[0]))))\n",
    "    for gen in range(0, generations):\n",
    "        # parent selection\n",
    "        parent_1 = pop_sorted[:,2][:pop_size//2] # take 1st half as parent-1\n",
    "        parent_2 = pop_sorted[:,2][pop_size//2:] # take 2nd half as parent-2\n",
    "        # crossover\n",
    "        offsprings_1 = [crossover(parent_1[i], parent_2[i], prob_cross) for i in range(0, np.min([len(parent_2), len(parent_1)]))]\n",
    "        offsprings_2 = [crossover(parent_2[i], parent_1[i], prob_cross) for i in range(0, np.min([len(parent_2), len(parent_1)]))]\n",
    "        # mutation\n",
    "        offsprings_1 = mutation(offsprings_1, prob_mut)\n",
    "        offsprings_2 = mutation(offsprings_2, prob_mut)\n",
    "        \n",
    "        # calculates the fitness of the children to choose who will pass on to the next generation\n",
    "        offsprings_1 = compute_fitness(offsprings_1, data)\n",
    "        offsprings_2 = compute_fitness(offsprings_2, data)\n",
    "        # concatenate all parents and new generated offsprings\n",
    "        new_population = np.concatenate((pop_sorted, offsprings_1, offsprings_2))\n",
    "        # sorted the merged population\n",
    "        new_population = np.array(list(reversed(sorted(new_population, key=lambda x: x[0]))))\n",
    "        # select individuals of the next generation with the same population size\n",
    "        pop_sorted = new_population[0:pop_size, :]\n",
    "    # return the predicted labels, trained with best classifier among all the generations\n",
    "    return pop_sorted[0][1].predict(data['testX'])"
   ]
  },
  {
   "cell_type": "code",
   "execution_count": 3,
   "metadata": {
    "id": "3F6RQVap-8HY"
   },
   "outputs": [],
   "source": [
    "def get_feature(data):\n",
    "    channel_no = [0, 2, 16, 19] # only taking these four channels\n",
    "    feature_vector = [6.2, 7.3, 6.2, 7.3]\n",
    "    feature_matrix = []\n",
    "    for ith_video in range(40):\n",
    "        features = []\n",
    "        for ith_channel in channel_no:\n",
    "            # power spectral density\n",
    "            # please refer: https://matplotlib.org/stable/api/_as_gen/matplotlib.pyplot.psd.html\n",
    "            psd, freqs = plt.psd(data[ith_video][ith_channel], Fs = 128)\n",
    "            # get frequency bands mean power\n",
    "            theta_mean = np.mean(psd[np.logical_and(freqs >= 4, freqs <= 7)])\n",
    "            alpha_mean = np.mean(psd[np.logical_and(freqs >= 8, freqs <= 13)])\n",
    "            beta_mean  = np.mean(psd[np.logical_and(freqs >= 13, freqs <= 30)])\n",
    "            gamma_mean = np.mean(psd[np.logical_and(freqs >= 30, freqs <= 40)])\n",
    "            features.append([theta_mean, alpha_mean, beta_mean, gamma_mean])\n",
    "        # flatten the features i.e. transform it from 2D to 1D\n",
    "        feature_matrix.append(np.array(list(chain.from_iterable(features))))\n",
    "    return np.array(feature_matrix)"
   ]
  },
  {
   "cell_type": "code",
   "execution_count": 4,
   "metadata": {
    "id": "maZUGthr-8HY"
   },
   "outputs": [],
   "source": [
    "def get_class_labels(labels, class_type):\n",
    "    # encoding\n",
    "    emotion = np.ones(40)\n",
    "    if(class_type=='valence'):\n",
    "        for i in range(0, 40):\n",
    "            if labels[i][0]>=5:\n",
    "                emotion[i] = 0\n",
    "            else:\n",
    "                emotion[i] = 1\n",
    "    elif(class_type=='arousal'):\n",
    "        for i in range(40):\n",
    "            if labels[i][1]>=5:\n",
    "                emotion[i] = 0\n",
    "            else:\n",
    "                emotion[i] = 1\n",
    "    else:\n",
    "        for i in range(40):\n",
    "            if(labels[i][0]>=5 and labels[i][1] >=5): # HVHA\n",
    "                emotion[i] = 0\n",
    "            elif(labels[i][0]>=5 and labels[i][1]<5): #HVLA\n",
    "                emotion[i] = 1\n",
    "            elif(labels[i][0]<5 and labels[i][1]>=5): #LVHA\n",
    "                emotion[i] = 2\n",
    "            else: #LVLA\n",
    "                emotion[i] = 3\n",
    "    return emotion"
   ]
  },
  {
   "cell_type": "code",
   "execution_count": 5,
   "metadata": {},
   "outputs": [],
   "source": [
    "def get_four_class(val, ar):\n",
    "    # convert binary to multiclass\n",
    "    emotion = np.ones(val.shape[0])\n",
    "    assert val.shape[0]==ar.shape[0]\n",
    "    for i in range(0, val.shape[0]):\n",
    "        if(val[i]==1 and ar[i]==1): # HVHA\n",
    "            emotion[i] = 0\n",
    "        elif(val[i]==1 and ar[i]==0): #HVLA\n",
    "            emotion[i] = 1\n",
    "        elif(val[i]==0 and ar[i]==1): #LVHA\n",
    "            emotion[i] = 2\n",
    "        else: #LVLA\n",
    "            emotion[i] = 3\n",
    "    return emotion\n",
    "def decoding_binary_class(four_class):\n",
    "    if(four_class.ndim ==1):\n",
    "        b_val, b_ar = [], []\n",
    "        for j in range(0, four_class.shape[0]):\n",
    "            if(four_class[j]==0):\n",
    "                b_val.append(1)\n",
    "                b_ar.append(1)\n",
    "            elif(four_class[j]==1):\n",
    "                b_val.append(1)\n",
    "                b_ar.append(0)\n",
    "            elif(four_class[j]==2):\n",
    "                b_val.append(0)\n",
    "                b_ar.append(1)\n",
    "            else:\n",
    "                b_val.append(0)\n",
    "                b_ar.append(0)\n",
    "        return np.array(b_val), np.array(b_ar)\n",
    "    else:\n",
    "        binary_val, binary_ar = [], []\n",
    "        for i in range(0, four_class.shape[0]):\n",
    "            bval, bar = decoding_binary_class(four_class[i])\n",
    "            binary_val.append(bval)\n",
    "            binary_ar.append(bar)\n",
    "        return np.array(binary_val), np.array(binary_ar)"
   ]
  },
  {
   "cell_type": "code",
   "execution_count": 6,
   "metadata": {
    "id": "mTCAaJDk-8HZ"
   },
   "outputs": [],
   "source": [
    "N_C = None\n",
    "droping_components = 'one'\n",
    "def SignalPreProcess(eeg_rawdata):\n",
    "    \"\"\"\n",
    "    :param eeg_rawdata: numpy array with the shape of (n_channels, n_samples)\n",
    "    :return: filtered EEG raw data\n",
    "    \"\"\"\n",
    "    assert eeg_rawdata.shape[0] == 32\n",
    "    eeg_rawdata = np.array(eeg_rawdata)\n",
    "\n",
    "    ch_names = [\"Fp1\", \"AF3\", \"F3\", \"F7\", \"FC5\", \"FC1\", \"C3\", \"T7\", \"CP5\", \"CP1\", \"P3\", \"P7\", \"PO3\", \"O1\", \"Oz\", \n",
    "                \"Pz\", \"Fp2\", \"AF4\", \"Fz\", \"F4\", \"F8\", \"FC6\", \"FC2\", \"Cz\", \"C4\", \"T8\", \"CP6\", \"CP2\", \"P4\", \"P8\",\n",
    "                \"PO4\", \"O2\"]\n",
    "  \n",
    "    info = mne.create_info(ch_names = ch_names, ch_types = ['eeg' for _ in range(32)], sfreq = 128, verbose=False)\n",
    "    raw_data = mne.io.RawArray(eeg_rawdata, info, verbose = False)\n",
    "    raw_data.load_data(verbose = False).filter(l_freq = 4, h_freq = 48, method = 'fir', verbose = False)\n",
    "    #raw_data.plot()\n",
    "\n",
    "    ica = ICA(n_components = N_C, random_state = 97, verbose = False)\n",
    "    ica.fit(raw_data)\n",
    "    # https://mne.tools/stable/generated/mne.preprocessing.find_eog_events.html?highlight=find_eog_#mne.preprocessing.find_eog_events\n",
    "    eog_indices, eog_scores = ica.find_bads_eog(raw_data.copy(), ch_name = 'Fp1', verbose = None)\n",
    "    a = abs(eog_scores).tolist()\n",
    "    if(droping_components == 'one'):\n",
    "        ica.exclude = [a.index(max(a))]\n",
    "        \n",
    "    else: # find two maximum scores\n",
    "        a_2 = a.copy()\n",
    "        a.sort(reverse = True)\n",
    "        exclude_index = []\n",
    "        for i in range(0, 2):\n",
    "            for j in range(0, len(a_2)):\n",
    "                if(a[i]==a_2[j]):\n",
    "                    exclude_index.append(j)\n",
    "        ica.exclude = exclude_index\n",
    "    ica.apply(raw_data, verbose = False)\n",
    "    # common average reference\n",
    "    raw_data.set_eeg_reference('average', ch_type = 'eeg')#, projection = True)\n",
    "    filted_eeg_rawdata = np.array(raw_data.get_data())\n",
    "    return filted_eeg_rawdata\n",
    "\n",
    "def signal_pro(input_data):\n",
    "    for i in range(input_data.shape[0]):\n",
    "        input_data[i] = SignalPreProcess(input_data[i].copy())\n",
    "    return input_data"
   ]
  },
  {
   "cell_type": "markdown",
   "metadata": {
    "id": "rs9Vu_AS-8Ha"
   },
   "source": [
    "# Main code"
   ]
  },
  {
   "cell_type": "code",
   "execution_count": 7,
   "metadata": {},
   "outputs": [],
   "source": [
    "def get_four_class_performance(y_test_val, y_test_ar, y_pred_val, y_pred_ar):\n",
    "    y_test_four = get_four_class(y_test_val, y_test_ar)\n",
    "    y_pred_four = get_four_class(y_pred_val, y_pred_ar)\n",
    "    \n",
    "    four_acc = accuracy_score(y_test_four, y_pred_four)*100\n",
    "    four_prec = precision_score(y_test_four, y_pred_four, labels=[0,1,2,3], average='weighted')*100\n",
    "    four_recall = recall_score(y_test_four, y_pred_four, labels=[0,1,2,3], average='weighted')*100\n",
    "    four_f1 = f1_score(y_test_four, y_pred_four, labels=[0,1,2,3], average='weighted')*100\n",
    "    \n",
    "    #print(subject_no, four_acc, four_prec, four_recall, four_f1)\n",
    "    return four_acc, four_prec, four_recall, four_f1"
   ]
  },
  {
   "cell_type": "code",
   "execution_count": 8,
   "metadata": {},
   "outputs": [],
   "source": [
    "def kfold(x, y):\n",
    "    # do the scalling\n",
    "    scaler = MinMaxScaler()\n",
    "    x = scaler.fit_transform(x)\n",
    "    skf = StratifiedKFold(n_splits=10)\n",
    "    skf.get_n_splits(x, y)\n",
    "    test_data, train_data, train_label, test_label = [], [], [], []\n",
    "    for train_index, test_index in skf.split(x, y):\n",
    "        X_train, X_test = x[train_index], x[test_index]\n",
    "        y_train, y_test = y[train_index], y[test_index]\n",
    "        train_data.append(X_train)\n",
    "        test_data.append(X_test)\n",
    "        train_label.append(y_train)\n",
    "        test_label.append(y_test)\n",
    "    return np.array(train_data), np.array(train_label), np.array(test_data), np.array(test_label)\n",
    "\n",
    "def get_data(subject_no):\n",
    "    # read the data\n",
    "    dataset_path = '/Users/shyammarjit/Desktop/Brain Computer Interface/Deap Dataset/'\n",
    "    deap_dataset = pickle.load(open(dataset_path + subject_no + '.dat', 'rb'), encoding='latin1')\n",
    "    # separate data and labels \n",
    "    data = np.array(deap_dataset['data']) # for current data\n",
    "    labels = np.array(deap_dataset['labels']) # for current labels\n",
    "    # remove 3sec pre baseline\n",
    "    data  = data[0:40,0:32,384:8064]\n",
    "    # signal processing\n",
    "    data = signal_pro(data)\n",
    "    # feature extraction\n",
    "    feature = get_feature(data)\n",
    "    # class label\n",
    "    four_class_labels = get_class_labels(labels, 'four_class')\n",
    "    return kfold(feature, four_class_labels)\n",
    "\n",
    "def emotion_classification(data):\n",
    "    # GA optimized MLP\n",
    "    y_pred = GA_MLP(data, generations = 20, pop_size = 20, prob_cross=0.95, prob_mut = 0.001)\n",
    "    y_test = data['testY']\n",
    "    acc = accuracy_score(y_pred, y_test)*100\n",
    "    prec = precision_score(y_test, y_pred)*100\n",
    "    recall = recall_score(y_test, y_pred)*100\n",
    "    f1 = f1_score(y_test, y_pred)*100\n",
    "    #print(subject_no, acc, prec, recall, f1)\n",
    "    return acc, prec, recall, f1, y_test, y_pred"
   ]
  },
  {
   "cell_type": "code",
   "execution_count": 9,
   "metadata": {
    "id": "ciIWHkNg-8Hb"
   },
   "outputs": [
    {
     "data": {
      "image/png": "[encoded data removed]",
      "text/plain": [
       "<Figure size 432x288 with 1 Axes>"
      ]
     },
     "metadata": {
      "needs_background": "light"
     },
     "output_type": "display_data"
    }
   ],
   "source": [
    "subject_no = 'S01'\n",
    "train_data, four_train_label, test_data, four_test_label = get_data(subject_no)\n",
    "# train_label has only four class emotion now extract it into binary class\n",
    "train_label_valence, test_label_valence, train_label_arousal, test_label_arousal = [], [], [], []\n",
    "for fold in range(0, 10):\n",
    "    valence_train_labels, arousal_train_labels = decoding_binary_class(four_train_label[fold])\n",
    "    valence_test_labels, arousal_test_labels = decoding_binary_class(four_test_label[fold])\n",
    "    train_label_valence.append(valence_train_labels)\n",
    "    test_label_valence.append(valence_test_labels)\n",
    "    train_label_arousal.append(arousal_train_labels)\n",
    "    test_label_arousal.append(arousal_test_labels)"
   ]
  },
  {
   "cell_type": "markdown",
   "metadata": {},
   "source": [
    "# valence"
   ]
  },
  {
   "cell_type": "code",
   "execution_count": 10,
   "metadata": {
    "id": "QowrlCkJ-8Hb"
   },
   "outputs": [
    {
     "name": "stdout",
     "output_type": "stream",
     "text": [
      "fold-1 100.0 100.0 100.0 100.0\n",
      "fold-2 100.0 100.0 100.0 100.0\n",
      "fold-3 75.0 66.66666666666666 100.0 80.0\n",
      "fold-4 100.0 100.0 100.0 100.0\n",
      "fold-5 100.0 100.0 100.0 100.0\n",
      "fold-6 100.0 100.0 100.0 100.0\n",
      "fold-7 100.0 100.0 100.0 100.0\n",
      "fold-8 75.0 66.66666666666666 100.0 80.0\n",
      "fold-9 100.0 100.0 100.0 100.0\n",
      "fold-10 100.0 100.0 100.0 100.0\n",
      "Valence:  95.0 93.33333333333333 100.0 96.0\n"
     ]
    }
   ],
   "source": [
    "fold_val_test, fold_val_pred = [], []\n",
    "fold_val_acc, fold_val_prec, fold_val_recall, fold_val_f1 = [], [], [], []\n",
    "for fold in range(0, 10):\n",
    "    max_test_val, max_pred_val = [], []\n",
    "    max_acc = 0\n",
    "    for run in range(0, 10):\n",
    "        # intialize the data diectory\n",
    "        data = dict(trainX=train_data[fold], testX=test_data[fold], trainY = train_label_valence[fold],\\\n",
    "                    testY=test_label_valence[fold])\n",
    "        acc, prec, recall, f1, temp_test_val, temp_pred_val = emotion_classification(data)\n",
    "        if(acc>max_acc):\n",
    "            test_val, pred_val = temp_test_val, temp_pred_val\n",
    "            max_acc, max_prec, max_recall, max_f1 = acc, prec, recall, f1\n",
    "    print(\"fold-\" + str(fold+1), max_acc, max_prec, max_recall, max_f1)\n",
    "    fold_val_acc.append(max_acc)\n",
    "    fold_val_prec.append(max_prec)\n",
    "    fold_val_recall.append(max_recall)\n",
    "    fold_val_f1.append(max_f1)\n",
    "    fold_val_test.append(test_val)\n",
    "    fold_val_pred.append(pred_val)\n",
    "print(\"Valence: \", np.mean(fold_val_acc), np.mean(fold_val_prec), np.mean(fold_val_recall), np.mean(fold_val_f1))"
   ]
  },
  {
   "cell_type": "markdown",
   "metadata": {},
   "source": [
    "# Arousal"
   ]
  },
  {
   "cell_type": "code",
   "execution_count": 11,
   "metadata": {
    "id": "woWZffxj-8Hb",
    "scrolled": true
   },
   "outputs": [
    {
     "name": "stdout",
     "output_type": "stream",
     "text": [
      "fold-1 100.0 100.0 100.0 100.0\n",
      "fold-2 100.0 100.0 100.0 100.0\n",
      "fold-3 100.0 100.0 100.0 100.0\n",
      "fold-4 100.0 100.0 100.0 100.0\n",
      "fold-5 100.0 100.0 100.0 100.0\n",
      "fold-6 100.0 100.0 100.0 100.0\n",
      "fold-7 100.0 100.0 100.0 100.0\n",
      "fold-8 100.0 100.0 100.0 100.0\n",
      "fold-9 100.0 100.0 100.0 100.0\n",
      "fold-10 100.0 100.0 100.0 100.0\n",
      "Arousal:  100.0 100.0 100.0 100.0\n"
     ]
    }
   ],
   "source": [
    "fold_ar_test, fold_ar_pred = [], []\n",
    "fold_ar_acc, fold_ar_prec, fold_ar_recall, fold_ar_f1 = [], [], [], []\n",
    "for fold in range(0, 10):\n",
    "    max_test_ar, max_pred_ar = [], []\n",
    "    max_acc = 0\n",
    "    for run in range(0, 10):\n",
    "        data = dict(trainX=train_data[fold], testX=test_data[fold], trainY = train_label_arousal[fold],\\\n",
    "                    testY=test_label_arousal[fold])\n",
    "        acc, prec, recall, f1, temp_test_ar, temp_pred_ar = emotion_classification(data)\n",
    "        if(acc>max_acc):\n",
    "            test_ar, pred_ar = temp_test_ar, temp_pred_ar\n",
    "            max_acc, max_prec, max_recall, max_f1 = acc, prec, recall, f1\n",
    "    print(\"fold-\" + str(fold+1), max_acc, max_prec, max_recall, max_f1)\n",
    "    fold_ar_test.append(test_ar)\n",
    "    fold_ar_pred.append(pred_ar)\n",
    "    fold_ar_acc.append(max_acc)\n",
    "    fold_ar_prec.append(max_prec)\n",
    "    fold_ar_recall.append(max_recall)\n",
    "    fold_ar_f1.append(max_f1)\n",
    "print(\"Arousal: \", np.mean(fold_ar_acc), np.mean(fold_ar_prec), np.mean(fold_ar_recall), np.mean(fold_ar_f1))"
   ]
  },
  {
   "cell_type": "markdown",
   "metadata": {},
   "source": [
    "# Four class"
   ]
  },
  {
   "cell_type": "code",
   "execution_count": 12,
   "metadata": {},
   "outputs": [
    {
     "name": "stdout",
     "output_type": "stream",
     "text": [
      "fold-1 100.0 100.0 100.0 100.0\n",
      "fold-2 100.0 100.0 100.0 100.0\n",
      "fold-3 75.0 58.33333333333333 75.0 65.0\n",
      "fold-4 100.0 100.0 100.0 100.0\n",
      "fold-5 100.0 100.0 100.0 100.0\n",
      "fold-6 100.0 100.0 100.0 100.0\n",
      "fold-7 100.0 100.0 100.0 100.0\n",
      "fold-8 75.0 62.5 75.0 66.66666666666666\n",
      "fold-9 100.0 100.0 100.0 100.0\n",
      "fold-10 100.0 100.0 100.0 100.0\n",
      "Four Class:  95.0 92.08333333333333 95.0 93.16666666666666\n"
     ]
    }
   ],
   "source": [
    "four_acc, four_prec, four_recall, four_f1 = [], [], [], []\n",
    "for i in range(0, 10):\n",
    "    test_val, pred_val, test_ar, pred_ar = fold_val_test[i], fold_val_pred[i], fold_ar_test[i], fold_ar_pred[i]\n",
    "    acc, prec, recall, f1 = get_four_class_performance(test_val, test_ar, pred_val, pred_ar)\n",
    "    print(\"fold-\" + str(i+1), acc, prec, recall, f1)\n",
    "    four_acc.append(acc)\n",
    "    four_prec.append(prec)\n",
    "    four_recall.append(recall)\n",
    "    four_f1.append(f1)\n",
    "print(\"Four Class: \", np.mean(four_acc), np.mean(four_prec), np.mean(four_recall), np.mean(four_f1))"
   ]
  },
  {
   "cell_type": "code",
   "execution_count": null,
   "metadata": {},
   "outputs": [],
   "source": []
  }
 ],
 "metadata": {
  "colab": {
   "provenance": []
  },
  "kernelspec": {
   "display_name": "Python 3",
   "language": "python",
   "name": "python3"
  },
  "language_info": {
   "codemirror_mode": {
    "name": "ipython",
    "version": 3
   },
   "file_extension": ".py",
   "mimetype": "text/x-python",
   "name": "python",
   "nbconvert_exporter": "python",
   "pygments_lexer": "ipython3",
   "version": "3.8.8"
  }
 },
 "nbformat": 4,
 "nbformat_minor": 1
}
